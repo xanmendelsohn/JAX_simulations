{
 "cells": [
  {
   "cell_type": "code",
   "execution_count": 18,
   "metadata": {
    "_cell_guid": "b1076dfc-b9ad-4769-8c92-a6c4dae69d19",
    "_uuid": "8f2839f25d086af736a60e9eeb907d3b93b6e0e5",
    "tags": []
   },
   "outputs": [],
   "source": [
    "import jax\n",
    "import numpy as np\n",
    "\n",
    "import matplotlib.pyplot as plt\n",
    "import pandas as pd\n",
    "\n",
    "import torch\n",
    "import torch.jit\n",
    "import torch.distributions.normal as normal\n",
    "import torch.distributions.uniform as uniform\n",
    "import torch.distributions.beta as beta\n",
    "from torch.utils.data import Dataset, DataLoader, ConcatDataset\n",
    "\n",
    "# multi arm bandit base aglorithms \n",
    "from base_algos_torch import action_value_init, action_value_update, beta_init, beta_update, simulate_salesdata"
   ]
  },
  {
   "cell_type": "code",
   "execution_count": 19,
   "metadata": {},
   "outputs": [],
   "source": [
    "EPOCHS = 500\n",
    "BATCH_SIZE = 64\n",
    "LEARNING_RATE = 0.001"
   ]
  },
  {
   "cell_type": "code",
   "execution_count": 20,
   "metadata": {},
   "outputs": [],
   "source": [
    "# Random seed to make our experiment replicable \n",
    "SEED = 142\n",
    "\n",
    "# Number of visitors we want to simulate\n",
    "NUM_VISITS = 5000\n",
    "\n",
    "PRICE_LIST = torch.arange(0, 1, 0.05)\n",
    "FEATURE_SPACE = torch.tensor([[0, 1], [1, 0]], dtype=torch.float32)\n",
    "PRICE_SENSITIVITY_PARMS = torch.tensor([[0.3,0.05], [0.5,0.1]], dtype=torch.float32)"
   ]
  },
  {
   "cell_type": "code",
   "execution_count": 21,
   "metadata": {},
   "outputs": [],
   "source": [
    "# simulate sales\n",
    "ds = simulate_salesdata(\n",
    "    N = 10000,\n",
    "    features = FEATURE_SPACE,\n",
    "    price_list = PRICE_LIST,\n",
    "    price_sensitivity_params = PRICE_SENSITIVITY_PARMS,\n",
    "    seed = 12\n",
    ")"
   ]
  },
  {
   "cell_type": "code",
   "execution_count": 22,
   "metadata": {},
   "outputs": [],
   "source": [
    "ds.shape\n",
    "X = ds[:3].permute(1, 0)\n",
    "y = ds[3].unsqueeze(1)"
   ]
  },
  {
   "cell_type": "code",
   "execution_count": 6,
   "metadata": {},
   "outputs": [],
   "source": [
    "## train data\n",
    "class TrainData(Dataset):\n",
    "    \n",
    "    def __init__(self, X_data, y_data):\n",
    "        self.X_data = X_data\n",
    "        self.y_data = y_data\n",
    "        \n",
    "    def __getitem__(self, index):\n",
    "        return self.X_data[index], self.y_data[index]\n",
    "        \n",
    "    def __len__ (self):\n",
    "        return len(self.X_data)\n",
    "\n",
    "\n",
    "train_data = TrainData(torch.FloatTensor(X), \n",
    "                       torch.FloatTensor(y))"
   ]
  },
  {
   "cell_type": "code",
   "execution_count": 7,
   "metadata": {},
   "outputs": [],
   "source": [
    "train_loader = DataLoader(dataset=train_data, batch_size=BATCH_SIZE, shuffle=True)"
   ]
  },
  {
   "cell_type": "code",
   "execution_count": 8,
   "metadata": {},
   "outputs": [],
   "source": [
    "# build custom module for logistic regression\n",
    "class LogisticRegression(torch.nn.Module):    \n",
    "    # build the constructor\n",
    "    def __init__(self, n_inputs, n_outputs):\n",
    "        super(LogisticRegression, self).__init__()\n",
    "        self.linear = torch.nn.Linear(n_inputs, n_outputs)\n",
    "    # make predictions\n",
    "    def forward(self, x):\n",
    "        y_pred = torch.sigmoid(self.linear(x))\n",
    "        return y_pred"
   ]
  },
  {
   "cell_type": "code",
   "execution_count": 9,
   "metadata": {},
   "outputs": [],
   "source": [
    "device = torch.device(\"cuda:0\" if torch.cuda.is_available() else \"cpu\")"
   ]
  },
  {
   "cell_type": "code",
   "execution_count": 10,
   "metadata": {},
   "outputs": [
    {
     "name": "stdout",
     "output_type": "stream",
     "text": [
      "LogisticRegression(\n",
      "  (linear): Linear(in_features=3, out_features=1, bias=True)\n",
      ")\n"
     ]
    }
   ],
   "source": [
    "# instantiate the model\n",
    "n_inputs = 3 \n",
    "n_outputs = 1\n",
    "model = LogisticRegression(n_inputs, n_outputs)\n",
    "\n",
    "model.to(device)\n",
    "print(model)\n",
    "criterion = torch.nn.BCEWithLogitsLoss()\n",
    "optimizer = torch.optim.Adam(model.parameters(), lr=LEARNING_RATE)"
   ]
  },
  {
   "cell_type": "code",
   "execution_count": 11,
   "metadata": {},
   "outputs": [
    {
     "name": "stderr",
     "output_type": "stream",
     "text": [
      "\n",
      "KeyboardInterrupt\n",
      "\n"
     ]
    }
   ],
   "source": [
    "model.train()\n",
    "for e in range(1, EPOCHS+1):\n",
    "    epoch_loss = 0\n",
    "    epoch_acc = 0\n",
    "    for X_batch, y_batch in train_loader:\n",
    "        X_batch, y_batch = X_batch.to(device), y_batch.to(device)\n",
    "        optimizer.zero_grad()\n",
    "        \n",
    "        y_pred = model(X_batch)\n",
    "        loss = criterion(y_pred, y_batch)\n",
    "        \n",
    "        loss.backward()\n",
    "        optimizer.step()\n",
    "        \n",
    "        epoch_loss += loss.item()\n",
    "        epoch_acc += acc.item()\n",
    "\n",
    "    print(f'Epoch {e+0:03}: | Loss: {epoch_loss/len(train_loader):.5f}')"
   ]
  },
  {
   "cell_type": "code",
   "execution_count": 12,
   "metadata": {},
   "outputs": [],
   "source": [
    "def crossover_learning(X, y, price_list):\n",
    "\n",
    "    price = X[2]\n",
    "    features = X[:2]\n",
    "    sold = y\n",
    "    \n",
    "    if sold:\n",
    "        relevant_prices = price_list[price_list <= price]\n",
    "    else:\n",
    "        relevant_prices = price_list[price_list >= price]\n",
    "\n",
    "    stacked_features = torch.stack([features] * len(relevant_prices), dim=0)\n",
    "    X = torch.cat((stacked_features, relevant_prices.unsqueeze(1)), dim=1)\n",
    "    y = sold.expand(len(relevant_prices),1)\n",
    "\n",
    "    return X, y"
   ]
  },
  {
   "cell_type": "code",
   "execution_count": 31,
   "metadata": {},
   "outputs": [
    {
     "name": "stdout",
     "output_type": "stream",
     "text": [
      "LogisticRegression(\n",
      "  (linear): Linear(in_features=3, out_features=1, bias=True)\n",
      ")\n"
     ]
    }
   ],
   "source": [
    "# instantiate the model\n",
    "n_inputs = 3 \n",
    "n_outputs = 1\n",
    "model = LogisticRegression(n_inputs, n_outputs)\n",
    "\n",
    "model.to(device)\n",
    "print(model)\n",
    "optimizer = torch.optim.Adam(model.parameters(), lr=LEARNING_RATE)"
   ]
  },
  {
   "cell_type": "code",
   "execution_count": 32,
   "metadata": {},
   "outputs": [
    {
     "name": "stdout",
     "output_type": "stream",
     "text": [
      "Epoch 001: | Loss: 0.00299\n",
      "Epoch 002: | Loss: 0.00634\n",
      "Epoch 003: | Loss: 0.00299\n",
      "Epoch 004: | Loss: 0.00299\n",
      "Epoch 005: | Loss: 0.00635\n",
      "Epoch 006: | Loss: 0.00298\n",
      "Epoch 007: | Loss: 0.00298\n",
      "Epoch 008: | Loss: 0.00636\n",
      "Epoch 009: | Loss: 0.00297\n",
      "Epoch 010: | Loss: 0.00637\n",
      "Epoch 011: | Loss: 0.00637\n",
      "Epoch 012: | Loss: 0.00637\n",
      "Epoch 013: | Loss: 0.00638\n",
      "Epoch 014: | Loss: 0.00638\n",
      "Epoch 015: | Loss: 0.00638\n",
      "Epoch 016: | Loss: 0.00638\n",
      "Epoch 017: | Loss: 0.00639\n",
      "Epoch 018: | Loss: 0.00296\n",
      "Epoch 019: | Loss: 0.00295\n"
     ]
    }
   ],
   "source": [
    "model.train()\n",
    "for e in range(1, len(X)):\n",
    "    epoch_loss = 0\n",
    "\n",
    "    X_co, y_co = crossover_learning(X[e], y[e], price_list = PRICE_LIST)\n",
    "    \n",
    "    X_batch, y_batch = X_co.to(device), y_co.to(device)\n",
    "    optimizer.zero_grad()\n",
    "    \n",
    "    y_pred = model(X_batch)\n",
    "    criterion = torch.nn.BCEWithLogitsLoss()\n",
    "    loss = criterion(y_pred, y_batch)\n",
    "    \n",
    "    loss.backward()\n",
    "    optimizer.step()\n",
    "    \n",
    "    epoch_loss += loss.item()\n",
    "\n",
    "    print(f'Epoch {e+0:03}: | Loss: {epoch_loss/len(train_loader):.5f}')"
   ]
  },
  {
   "cell_type": "code",
   "execution_count": 25,
   "metadata": {},
   "outputs": [
    {
     "data": {
      "text/plain": [
       "tensor([[0.6970],\n",
       "        [0.6421],\n",
       "        [0.5832],\n",
       "        [0.5218],\n",
       "        [0.4597],\n",
       "        [0.3989],\n",
       "        [0.3410],\n",
       "        [0.2876],\n",
       "        [0.2394],\n",
       "        [0.1971],\n",
       "        [0.1607],\n",
       "        [0.1299],\n",
       "        [0.1043],\n",
       "        [0.0832],\n",
       "        [0.0661],\n",
       "        [0.0523],\n",
       "        [0.0413],\n",
       "        [0.0325],\n",
       "        [0.0255],\n",
       "        [0.0200]], grad_fn=<SigmoidBackward0>)"
      ]
     },
     "execution_count": 25,
     "metadata": {},
     "output_type": "execute_result"
    }
   ],
   "source": [
    "stacked_X = torch.stack([FEATURE_SPACE[0]] * len(PRICE_LIST), dim=0)\n",
    "X = torch.cat((stacked_X, PRICE_LIST.unsqueeze(1)), dim=1)\n",
    "model(X) "
   ]
  },
  {
   "cell_type": "code",
   "execution_count": null,
   "metadata": {},
   "outputs": [],
   "source": []
  }
 ],
 "metadata": {
  "kernelspec": {
   "display_name": "Python 3 (ipykernel)",
   "language": "python",
   "name": "python3"
  },
  "language_info": {
   "codemirror_mode": {
    "name": "ipython",
    "version": 3
   },
   "file_extension": ".py",
   "mimetype": "text/x-python",
   "name": "python",
   "nbconvert_exporter": "python",
   "pygments_lexer": "ipython3",
   "version": "3.11.4"
  }
 },
 "nbformat": 4,
 "nbformat_minor": 4
}
